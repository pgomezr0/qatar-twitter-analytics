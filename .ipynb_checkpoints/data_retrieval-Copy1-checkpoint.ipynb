{
 "cells": [
  {
   "cell_type": "markdown",
   "id": "94766a4b",
   "metadata": {},
   "source": [
    "# Qatar World Cup Sentiment Analysis"
   ]
  },
  {
   "cell_type": "code",
   "execution_count": 1,
   "id": "88a6bb5b",
   "metadata": {},
   "outputs": [
    {
     "data": {
      "text/plain": [
       "'\\nAuthor: Paola Gomez Reyna \\nDate: October 2022\\n'"
      ]
     },
     "execution_count": 1,
     "metadata": {},
     "output_type": "execute_result"
    }
   ],
   "source": [
    "\"\"\"\n",
    "Author: Paola Gomez Reyna \n",
    "Date: October 2022\n",
    "\"\"\""
   ]
  },
  {
   "cell_type": "markdown",
   "id": "4f4e939b",
   "metadata": {},
   "source": [
    "### On December 2, 2010 Qatar was announced host of the 2022 FIFA World Cup. This is the first time that an Arab country will host this tournament. The present notebook seeks to perform a sentiment analysis towards Qatar before and after the announcement. Moreover, the goal is to understand the perception of people in regards to human rights in this country. "
   ]
  },
  {
   "cell_type": "code",
   "execution_count": 2,
   "id": "69d0ea1e",
   "metadata": {},
   "outputs": [],
   "source": [
    "import snscrape.modules.twitter as sntwitter\n",
    "import pandas as pd"
   ]
  },
  {
   "cell_type": "code",
   "execution_count": 60,
   "id": "75cc1c76",
   "metadata": {},
   "outputs": [],
   "source": [
    "# search_term = 'Qatar rights'\n",
    "#search_list = [, 'Qatar rights until:2010-12-02 since:2011-05-02', 'Qatar rights until:2011-12-02 since:2022-05-02']"
   ]
  },
  {
   "cell_type": "code",
   "execution_count": 3,
   "id": "512d52c2",
   "metadata": {},
   "outputs": [],
   "source": [
    "# Using TwitterSearchScraper to scrape data and append tweets to list\n",
    "def twitterScrapper(string):\n",
    "    tweets_list = [] # Creating list to append tweet data to\n",
    "    for i,tweet in enumerate(sntwitter.TwitterSearchScraper(string).get_items()):\n",
    "        if i>50000:\n",
    "            break\n",
    "        tweets_list.append([tweet.date, tweet.id, tweet.content, tweet.user.username])\n",
    "    return tweets_list"
   ]
  },
  {
   "cell_type": "code",
   "execution_count": 4,
   "id": "84cf929f",
   "metadata": {},
   "outputs": [],
   "source": [
    "# Creating a dataframe from the tweets list above\n",
    "before_tweets_df = pd.DataFrame(twitterScrapper('Qatar rights until:2010-05-02 since:2007-12-02'), columns=['Datetime', 'Tweet Id', 'Text', 'Username'])\n"
   ]
  },
  {
   "cell_type": "code",
   "execution_count": 5,
   "id": "1c1efbe7",
   "metadata": {
    "scrolled": true
   },
   "outputs": [
    {
     "data": {
      "text/plain": [
       "2544"
      ]
     },
     "execution_count": 5,
     "metadata": {},
     "output_type": "execute_result"
    }
   ],
   "source": [
    "before_tweets_df.size"
   ]
  },
  {
   "cell_type": "code",
   "execution_count": 6,
   "id": "15c6ce37",
   "metadata": {},
   "outputs": [],
   "source": [
    "during_tweets_df = pd.DataFrame(twitterScrapper('Qatar rights until:2011-05-02 since:2010-12-02'), columns=['Datetime', 'Tweet Id', 'Text', 'Username'])"
   ]
  },
  {
   "cell_type": "code",
   "execution_count": 7,
   "id": "dc3c60c7",
   "metadata": {},
   "outputs": [
    {
     "data": {
      "text/plain": [
       "18248"
      ]
     },
     "execution_count": 7,
     "metadata": {},
     "output_type": "execute_result"
    }
   ],
   "source": [
    "during_tweets_df.size"
   ]
  },
  {
   "cell_type": "code",
   "execution_count": 8,
   "id": "f4cd0ab0",
   "metadata": {},
   "outputs": [],
   "source": [
    "after_tweets_df = pd.DataFrame(twitterScrapper('Qatar rights until:2022-05-02 since:2011-12-02'), columns=['Datetime', 'Tweet Id', 'Text', 'Username'])"
   ]
  },
  {
   "cell_type": "code",
   "execution_count": 9,
   "id": "cf04570d",
   "metadata": {},
   "outputs": [
    {
     "data": {
      "text/plain": [
       "200004"
      ]
     },
     "execution_count": 9,
     "metadata": {},
     "output_type": "execute_result"
    }
   ],
   "source": [
    "after_tweets_df.size"
   ]
  },
  {
   "cell_type": "code",
   "execution_count": 37,
   "id": "3462308a",
   "metadata": {},
   "outputs": [
    {
     "data": {
      "text/html": [
       "<div>\n",
       "<style scoped>\n",
       "    .dataframe tbody tr th:only-of-type {\n",
       "        vertical-align: middle;\n",
       "    }\n",
       "\n",
       "    .dataframe tbody tr th {\n",
       "        vertical-align: top;\n",
       "    }\n",
       "\n",
       "    .dataframe thead th {\n",
       "        text-align: right;\n",
       "    }\n",
       "</style>\n",
       "<table border=\"1\" class=\"dataframe\">\n",
       "  <thead>\n",
       "    <tr style=\"text-align: right;\">\n",
       "      <th></th>\n",
       "      <th>Datetime</th>\n",
       "      <th>Tweet Id</th>\n",
       "      <th>Text</th>\n",
       "      <th>Username</th>\n",
       "    </tr>\n",
       "  </thead>\n",
       "  <tbody>\n",
       "    <tr>\n",
       "      <th>0</th>\n",
       "      <td>2010-05-01 16:39:30+00:00</td>\n",
       "      <td>13197277910</td>\n",
       "      <td>Rossi dominates MotoGP testing at Sepang   Cop...</td>\n",
       "      <td>twitvoices</td>\n",
       "    </tr>\n",
       "    <tr>\n",
       "      <th>1</th>\n",
       "      <td>2010-05-01 05:00:26+00:00</td>\n",
       "      <td>13171859913</td>\n",
       "      <td>Hattrickheaven.com DUBAI, April 28 (Reuters) -...</td>\n",
       "      <td>hattrickheaven</td>\n",
       "    </tr>\n",
       "    <tr>\n",
       "      <th>2</th>\n",
       "      <td>2010-05-01 04:00:14+00:00</td>\n",
       "      <td>13169174049</td>\n",
       "      <td>Hattrickheaven.com DUBAI, April 28 (Reuters) -...</td>\n",
       "      <td>hattrickheaven</td>\n",
       "    </tr>\n",
       "    <tr>\n",
       "      <th>3</th>\n",
       "      <td>2010-04-30 13:52:04+00:00</td>\n",
       "      <td>13130199504</td>\n",
       "      <td>Why the hell doesn't Qib in city center open a...</td>\n",
       "      <td>iloveqatar</td>\n",
       "    </tr>\n",
       "    <tr>\n",
       "      <th>4</th>\n",
       "      <td>2010-04-30 00:00:26+00:00</td>\n",
       "      <td>13097676230</td>\n",
       "      <td>Hattrickheaven.com DUBAI, April 28 (Reuters) -...</td>\n",
       "      <td>hattrickheaven</td>\n",
       "    </tr>\n",
       "    <tr>\n",
       "      <th>5</th>\n",
       "      <td>2010-04-29 23:20:11+00:00</td>\n",
       "      <td>13095781856</td>\n",
       "      <td>Hattrickheaven.com DUBAI, April 28 (Reuters) -...</td>\n",
       "      <td>hattrickheaven</td>\n",
       "    </tr>\n",
       "    <tr>\n",
       "      <th>6</th>\n",
       "      <td>2010-04-29 22:09:50+00:00</td>\n",
       "      <td>13092516753</td>\n",
       "      <td>Right #motogp weekend starts now, catch up fro...</td>\n",
       "      <td>Impigrity</td>\n",
       "    </tr>\n",
       "    <tr>\n",
       "      <th>7</th>\n",
       "      <td>2010-04-29 22:00:25+00:00</td>\n",
       "      <td>13092092871</td>\n",
       "      <td>Hattrickheaven.com DUBAI, April 28 (Reuters) -...</td>\n",
       "      <td>hattrickheaven</td>\n",
       "    </tr>\n",
       "    <tr>\n",
       "      <th>8</th>\n",
       "      <td>2010-04-29 20:53:59+00:00</td>\n",
       "      <td>13089160378</td>\n",
       "      <td>Is World Cup bid right for Qatar? – National: ...</td>\n",
       "      <td>SportsNewsByMe</td>\n",
       "    </tr>\n",
       "    <tr>\n",
       "      <th>9</th>\n",
       "      <td>2010-04-29 10:20:12+00:00</td>\n",
       "      <td>13061179463</td>\n",
       "      <td>Hattrickheaven.com DUBAI, April 28 (Reuters) -...</td>\n",
       "      <td>hattrickheaven</td>\n",
       "    </tr>\n",
       "    <tr>\n",
       "      <th>10</th>\n",
       "      <td>2010-04-29 05:00:20+00:00</td>\n",
       "      <td>13051419179</td>\n",
       "      <td>Qatar Immigration Lawyer, Civil Lawyer, Genera...</td>\n",
       "      <td>emarketingseo</td>\n",
       "    </tr>\n",
       "    <tr>\n",
       "      <th>11</th>\n",
       "      <td>2010-04-29 01:47:18+00:00</td>\n",
       "      <td>13042023186</td>\n",
       "      <td>Cilic passes Russian test at Monte Carlo tenni...</td>\n",
       "      <td>twitvoices</td>\n",
       "    </tr>\n",
       "    <tr>\n",
       "      <th>12</th>\n",
       "      <td>2010-04-28 21:52:54+00:00</td>\n",
       "      <td>13030366343</td>\n",
       "      <td>@AdamFlinter I bumped into her next day &amp; she ...</td>\n",
       "      <td>algergawi</td>\n",
       "    </tr>\n",
       "    <tr>\n",
       "      <th>13</th>\n",
       "      <td>2010-04-28 18:57:55+00:00</td>\n",
       "      <td>13022442753</td>\n",
       "      <td>Qatar officials insist the country's blisterin...</td>\n",
       "      <td>ilr_sports</td>\n",
       "    </tr>\n",
       "    <tr>\n",
       "      <th>14</th>\n",
       "      <td>2010-04-28 13:24:08+00:00</td>\n",
       "      <td>13006095278</td>\n",
       "      <td>@ice_2big meet my kambal @_caramello_ she's in...</td>\n",
       "      <td>mr_perk</td>\n",
       "    </tr>\n",
       "    <tr>\n",
       "      <th>15</th>\n",
       "      <td>2010-04-28 11:27:06+00:00</td>\n",
       "      <td>13000975873</td>\n",
       "      <td>Does anyone know which dialect of Arabic is sp...</td>\n",
       "      <td>gospain</td>\n",
       "    </tr>\n",
       "    <tr>\n",
       "      <th>16</th>\n",
       "      <td>2010-04-28 10:07:20+00:00</td>\n",
       "      <td>12998293734</td>\n",
       "      <td>Monfils out of Monte Carlo Masters tennis  Cop...</td>\n",
       "      <td>twitvoices</td>\n",
       "    </tr>\n",
       "    <tr>\n",
       "      <th>17</th>\n",
       "      <td>2010-04-28 05:17:18+00:00</td>\n",
       "      <td>12989504914</td>\n",
       "      <td>AFC Asian Cup Qatar 2011 Finals Draw at the As...</td>\n",
       "      <td>twitvoices</td>\n",
       "    </tr>\n",
       "    <tr>\n",
       "      <th>18</th>\n",
       "      <td>2010-04-28 00:16:34+00:00</td>\n",
       "      <td>12974511803</td>\n",
       "      <td>America's Divine Right to Junk Food [Health Wa...</td>\n",
       "      <td>vaporware</td>\n",
       "    </tr>\n",
       "    <tr>\n",
       "      <th>19</th>\n",
       "      <td>2010-04-27 18:18:22+00:00</td>\n",
       "      <td>12958043585</td>\n",
       "      <td>@chidioc I think ure right, but i still wanna ...</td>\n",
       "      <td>pooyad</td>\n",
       "    </tr>\n",
       "  </tbody>\n",
       "</table>\n",
       "</div>"
      ],
      "text/plain": [
       "                    Datetime     Tweet Id  \\\n",
       "0  2010-05-01 16:39:30+00:00  13197277910   \n",
       "1  2010-05-01 05:00:26+00:00  13171859913   \n",
       "2  2010-05-01 04:00:14+00:00  13169174049   \n",
       "3  2010-04-30 13:52:04+00:00  13130199504   \n",
       "4  2010-04-30 00:00:26+00:00  13097676230   \n",
       "5  2010-04-29 23:20:11+00:00  13095781856   \n",
       "6  2010-04-29 22:09:50+00:00  13092516753   \n",
       "7  2010-04-29 22:00:25+00:00  13092092871   \n",
       "8  2010-04-29 20:53:59+00:00  13089160378   \n",
       "9  2010-04-29 10:20:12+00:00  13061179463   \n",
       "10 2010-04-29 05:00:20+00:00  13051419179   \n",
       "11 2010-04-29 01:47:18+00:00  13042023186   \n",
       "12 2010-04-28 21:52:54+00:00  13030366343   \n",
       "13 2010-04-28 18:57:55+00:00  13022442753   \n",
       "14 2010-04-28 13:24:08+00:00  13006095278   \n",
       "15 2010-04-28 11:27:06+00:00  13000975873   \n",
       "16 2010-04-28 10:07:20+00:00  12998293734   \n",
       "17 2010-04-28 05:17:18+00:00  12989504914   \n",
       "18 2010-04-28 00:16:34+00:00  12974511803   \n",
       "19 2010-04-27 18:18:22+00:00  12958043585   \n",
       "\n",
       "                                                 Text        Username  \n",
       "0   Rossi dominates MotoGP testing at Sepang   Cop...      twitvoices  \n",
       "1   Hattrickheaven.com DUBAI, April 28 (Reuters) -...  hattrickheaven  \n",
       "2   Hattrickheaven.com DUBAI, April 28 (Reuters) -...  hattrickheaven  \n",
       "3   Why the hell doesn't Qib in city center open a...      iloveqatar  \n",
       "4   Hattrickheaven.com DUBAI, April 28 (Reuters) -...  hattrickheaven  \n",
       "5   Hattrickheaven.com DUBAI, April 28 (Reuters) -...  hattrickheaven  \n",
       "6   Right #motogp weekend starts now, catch up fro...       Impigrity  \n",
       "7   Hattrickheaven.com DUBAI, April 28 (Reuters) -...  hattrickheaven  \n",
       "8   Is World Cup bid right for Qatar? – National: ...  SportsNewsByMe  \n",
       "9   Hattrickheaven.com DUBAI, April 28 (Reuters) -...  hattrickheaven  \n",
       "10  Qatar Immigration Lawyer, Civil Lawyer, Genera...   emarketingseo  \n",
       "11  Cilic passes Russian test at Monte Carlo tenni...      twitvoices  \n",
       "12  @AdamFlinter I bumped into her next day & she ...       algergawi  \n",
       "13  Qatar officials insist the country's blisterin...      ilr_sports  \n",
       "14  @ice_2big meet my kambal @_caramello_ she's in...         mr_perk  \n",
       "15  Does anyone know which dialect of Arabic is sp...         gospain  \n",
       "16  Monfils out of Monte Carlo Masters tennis  Cop...      twitvoices  \n",
       "17  AFC Asian Cup Qatar 2011 Finals Draw at the As...      twitvoices  \n",
       "18  America's Divine Right to Junk Food [Health Wa...       vaporware  \n",
       "19  @chidioc I think ure right, but i still wanna ...          pooyad  "
      ]
     },
     "execution_count": 37,
     "metadata": {},
     "output_type": "execute_result"
    }
   ],
   "source": [
    "tweets_df.head(20)"
   ]
  },
  {
   "cell_type": "code",
   "execution_count": 13,
   "id": "67e13383",
   "metadata": {},
   "outputs": [],
   "source": [
    "# Export dataframe to CSV\n",
    "before_tweets_df.to_csv(\"before_perception_Qatar.csv\")"
   ]
  },
  {
   "cell_type": "code",
   "execution_count": 14,
   "id": "103d423f",
   "metadata": {},
   "outputs": [],
   "source": [
    "during_tweets_df.to_csv(\"during_perception_Qatar.csv\")"
   ]
  },
  {
   "cell_type": "code",
   "execution_count": 15,
   "id": "525e39a4",
   "metadata": {},
   "outputs": [],
   "source": [
    "after_tweets_df.to_csv(\"after_perception_Qatar.csv\")"
   ]
  },
  {
   "cell_type": "code",
   "execution_count": null,
   "id": "7f19db07",
   "metadata": {},
   "outputs": [],
   "source": []
  }
 ],
 "metadata": {
  "kernelspec": {
   "display_name": "Python 3 (ipykernel)",
   "language": "python",
   "name": "python3"
  },
  "language_info": {
   "codemirror_mode": {
    "name": "ipython",
    "version": 3
   },
   "file_extension": ".py",
   "mimetype": "text/x-python",
   "name": "python",
   "nbconvert_exporter": "python",
   "pygments_lexer": "ipython3",
   "version": "3.9.7"
  }
 },
 "nbformat": 4,
 "nbformat_minor": 5
}
